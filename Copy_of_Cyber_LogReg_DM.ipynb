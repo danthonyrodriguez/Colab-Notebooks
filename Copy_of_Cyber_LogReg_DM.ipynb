{
  "nbformat": 4,
  "nbformat_minor": 0,
  "metadata": {
    "kernelspec": {
      "display_name": "Python 3",
      "language": "python",
      "name": "python3"
    },
    "language_info": {
      "codemirror_mode": {
        "name": "ipython",
        "version": 3
      },
      "file_extension": ".py",
      "mimetype": "text/x-python",
      "name": "python",
      "nbconvert_exporter": "python",
      "pygments_lexer": "ipython3",
      "version": "3.7.6"
    },
    "colab": {
      "name": "Copy of Cyber_LogReg_DM.ipynb",
      "provenance": [],
      "collapsed_sections": [],
      "include_colab_link": true
    }
  },
  "cells": [
    {
      "cell_type": "markdown",
      "metadata": {
        "id": "view-in-github",
        "colab_type": "text"
      },
      "source": [
        "<a href=\"https://colab.research.google.com/github/danthonyrodriguez/Colab-Notebooks/blob/main/Copy_of_Cyber_LogReg_DM.ipynb\" target=\"_parent\"><img src=\"https://colab.research.google.com/assets/colab-badge.svg\" alt=\"Open In Colab\"/></a>"
      ]
    },
    {
      "cell_type": "code",
      "metadata": {
        "id": "Lp6Ud1SpEu53",
        "colab": {
          "base_uri": "https://localhost:8080/"
        },
        "outputId": "9b3fc24e-1249-4924-c93c-5e823811378f"
      },
      "source": [
        "import pandas as pd\n",
        "import numpy as np\n",
        "from sklearn.decomposition import PCA\n",
        "from sklearn.preprocessing import StandardScaler\n",
        "from matplotlib import pyplot as plt\n",
        "from sklearn.datasets.samples_generator import make_blobs\n",
        "from sklearn.cluster import KMeans\n",
        "!pip install factor_analyzer\n",
        "from factor_analyzer import FactorAnalyzer\n",
        "from factor_analyzer.factor_analyzer import calculate_bartlett_sphericity\n",
        "from sklearn.linear_model import LinearRegression\n",
        "from sklearn.ensemble import RandomForestClassifier\n",
        "from sklearn.datasets import make_classification\n",
        "from sklearn.model_selection import train_test_split\n",
        "import plotly.express as px\n",
        "!pip install tabulate\n",
        "import io\n",
        "import matplotlib.pyplot as plt\n",
        "from sklearn.model_selection import train_test_split\n",
        "import seaborn as sns\n",
        "%matplotlib inline\n",
        "from sklearn.metrics import classification_report\n",
        "from sklearn.metrics import confusion_matrix\n",
        "from sklearn.linear_model import LogisticRegression\n",
        "from numpy import mean\n",
        "from numpy import std\n",
        "import statsmodels.api as sm\n",
        "from imblearn.over_sampling import SMOTE\n",
        "from sklearn import metrics"
      ],
      "execution_count": null,
      "outputs": [
        {
          "output_type": "stream",
          "text": [
            "/usr/local/lib/python3.7/dist-packages/sklearn/utils/deprecation.py:144: FutureWarning: The sklearn.datasets.samples_generator module is  deprecated in version 0.22 and will be removed in version 0.24. The corresponding classes / functions should instead be imported from sklearn.datasets. Anything that cannot be imported from sklearn.datasets is now part of the private API.\n",
            "  warnings.warn(message, FutureWarning)\n"
          ],
          "name": "stderr"
        },
        {
          "output_type": "stream",
          "text": [
            "Collecting factor_analyzer\n",
            "\u001b[?25l  Downloading https://files.pythonhosted.org/packages/44/b5/cbd83484ca6dd4c6562c6d66a6a3a0ecf526e79b2b575b9fb4bf5ad172dd/factor_analyzer-0.3.2.tar.gz (40kB)\n",
            "\r\u001b[K     |████████▏                       | 10kB 13.2MB/s eta 0:00:01\r\u001b[K     |████████████████▍               | 20kB 18.0MB/s eta 0:00:01\r\u001b[K     |████████████████████████▌       | 30kB 12.7MB/s eta 0:00:01\r\u001b[K     |████████████████████████████████| 40kB 3.2MB/s \n",
            "\u001b[?25hRequirement already satisfied: pandas in /usr/local/lib/python3.7/dist-packages (from factor_analyzer) (1.1.5)\n",
            "Requirement already satisfied: scipy in /usr/local/lib/python3.7/dist-packages (from factor_analyzer) (1.4.1)\n",
            "Requirement already satisfied: numpy in /usr/local/lib/python3.7/dist-packages (from factor_analyzer) (1.19.5)\n",
            "Requirement already satisfied: scikit-learn in /usr/local/lib/python3.7/dist-packages (from factor_analyzer) (0.22.2.post1)\n",
            "Requirement already satisfied: pytz>=2017.2 in /usr/local/lib/python3.7/dist-packages (from pandas->factor_analyzer) (2018.9)\n",
            "Requirement already satisfied: python-dateutil>=2.7.3 in /usr/local/lib/python3.7/dist-packages (from pandas->factor_analyzer) (2.8.1)\n",
            "Requirement already satisfied: joblib>=0.11 in /usr/local/lib/python3.7/dist-packages (from scikit-learn->factor_analyzer) (1.0.1)\n",
            "Requirement already satisfied: six>=1.5 in /usr/local/lib/python3.7/dist-packages (from python-dateutil>=2.7.3->pandas->factor_analyzer) (1.15.0)\n",
            "Building wheels for collected packages: factor-analyzer\n",
            "  Building wheel for factor-analyzer (setup.py) ... \u001b[?25l\u001b[?25hdone\n",
            "  Created wheel for factor-analyzer: filename=factor_analyzer-0.3.2-cp37-none-any.whl size=40383 sha256=dc7a66c5638beb6b103a0ecb9abc926764620df868dfb63ca27ab3a291e18eee\n",
            "  Stored in directory: /root/.cache/pip/wheels/4a/d0/57/f1330cb9c80e82d8d05391c74c94ed61ce3f03bf6157f3d6db\n",
            "Successfully built factor-analyzer\n",
            "Installing collected packages: factor-analyzer\n",
            "Successfully installed factor-analyzer-0.3.2\n",
            "Requirement already satisfied: tabulate in /usr/local/lib/python3.7/dist-packages (0.8.9)\n"
          ],
          "name": "stdout"
        },
        {
          "output_type": "stream",
          "text": [
            "/usr/local/lib/python3.7/dist-packages/statsmodels/tools/_testing.py:19: FutureWarning:\n",
            "\n",
            "pandas.util.testing is deprecated. Use the functions in the public API at pandas.testing instead.\n",
            "\n",
            "/usr/local/lib/python3.7/dist-packages/sklearn/externals/six.py:31: FutureWarning:\n",
            "\n",
            "The module is deprecated in version 0.21 and will be removed in version 0.23 since we've dropped support for Python 2.7. Please rely on the official version of six (https://pypi.org/project/six/).\n",
            "\n",
            "/usr/local/lib/python3.7/dist-packages/sklearn/utils/deprecation.py:144: FutureWarning:\n",
            "\n",
            "The sklearn.neighbors.base module is  deprecated in version 0.22 and will be removed in version 0.24. The corresponding classes / functions should instead be imported from sklearn.neighbors. Anything that cannot be imported from sklearn.neighbors is now part of the private API.\n",
            "\n"
          ],
          "name": "stderr"
        }
      ]
    },
    {
      "cell_type": "code",
      "metadata": {
        "colab": {
          "base_uri": "https://localhost:8080/"
        },
        "id": "R7YC_hRfRTR8",
        "outputId": "c94ca6b4-32dc-49b7-a197-2592d1297e5c"
      },
      "source": [
        "from google.colab import drive\n",
        "\n",
        "drive.mount('/content/drive')"
      ],
      "execution_count": null,
      "outputs": [
        {
          "output_type": "stream",
          "text": [
            "Mounted at /content/drive\n"
          ],
          "name": "stdout"
        }
      ]
    },
    {
      "cell_type": "code",
      "metadata": {
        "id": "Gg5MtcS9Eu56",
        "colab": {
          "base_uri": "https://localhost:8080/",
          "height": 363
        },
        "outputId": "6e223eac-246c-4460-86fc-a8400def8f1c"
      },
      "source": [
        "#Read in the data - This is the CSV that David uploaded to our shared Drive.\n",
        "#It contains the Q31_Max...Q34_Max variables created by Dylan from Week 1, as well as the PCA factor variables.\n",
        "\n",
        "df = pd.read_csv('/content/drive/My Drive/DA 6833/merge_wc_edit_update_PCA.csv', na_values = ['9999',\"9999\", ' ', ''])\n",
        "\n",
        "# Print the shape of \"Update2\" CSV\n",
        "print(df.shape)\n",
        "\n",
        "df.describe()"
      ],
      "execution_count": null,
      "outputs": [
        {
          "output_type": "stream",
          "text": [
            "(1099, 211)\n"
          ],
          "name": "stdout"
        },
        {
          "output_type": "execute_result",
          "data": {
            "text/html": [
              "<div>\n",
              "<style scoped>\n",
              "    .dataframe tbody tr th:only-of-type {\n",
              "        vertical-align: middle;\n",
              "    }\n",
              "\n",
              "    .dataframe tbody tr th {\n",
              "        vertical-align: top;\n",
              "    }\n",
              "\n",
              "    .dataframe thead th {\n",
              "        text-align: right;\n",
              "    }\n",
              "</style>\n",
              "<table border=\"1\" class=\"dataframe\">\n",
              "  <thead>\n",
              "    <tr style=\"text-align: right;\">\n",
              "      <th></th>\n",
              "      <th>DataFileCountryofOrigin</th>\n",
              "      <th>Q1</th>\n",
              "      <th>Q2_1</th>\n",
              "      <th>Q2_2</th>\n",
              "      <th>Q2_3</th>\n",
              "      <th>Q2_4</th>\n",
              "      <th>Q2_5</th>\n",
              "      <th>Q2_6</th>\n",
              "      <th>Q2_7</th>\n",
              "      <th>Q3</th>\n",
              "      <th>Q4_1</th>\n",
              "      <th>Q4_2</th>\n",
              "      <th>Q4_3</th>\n",
              "      <th>Q4_4</th>\n",
              "      <th>Q4_5</th>\n",
              "      <th>Q4_6</th>\n",
              "      <th>Q4_7</th>\n",
              "      <th>Q4_8</th>\n",
              "      <th>Q5</th>\n",
              "      <th>Q6</th>\n",
              "      <th>Q7</th>\n",
              "      <th>Q8</th>\n",
              "      <th>Q9</th>\n",
              "      <th>Q10</th>\n",
              "      <th>Q11</th>\n",
              "      <th>Q12</th>\n",
              "      <th>Q13</th>\n",
              "      <th>Q14</th>\n",
              "      <th>Q15</th>\n",
              "      <th>Q16</th>\n",
              "      <th>Q17_1</th>\n",
              "      <th>Q17_2</th>\n",
              "      <th>Q17_3</th>\n",
              "      <th>Q17_4</th>\n",
              "      <th>Q17_5</th>\n",
              "      <th>Q17_6</th>\n",
              "      <th>Q18</th>\n",
              "      <th>Q19</th>\n",
              "      <th>Q20</th>\n",
              "      <th>Q21_1</th>\n",
              "      <th>...</th>\n",
              "      <th>SouthAfrica_dummy</th>\n",
              "      <th>filter_$</th>\n",
              "      <th>hacking_scale</th>\n",
              "      <th>gender_rec</th>\n",
              "      <th>binary_guess_pass</th>\n",
              "      <th>binary_access_account_view_files</th>\n",
              "      <th>binary_add_delete_change</th>\n",
              "      <th>binary_malware_use_delete</th>\n",
              "      <th>binary_private_harassment</th>\n",
              "      <th>binary_malware_use_access</th>\n",
              "      <th>binary_public_harassment</th>\n",
              "      <th>binary_write_malware</th>\n",
              "      <th>CyberTrespass</th>\n",
              "      <th>GAvai_FB</th>\n",
              "      <th>Total_Hour</th>\n",
              "      <th>Male</th>\n",
              "      <th>PRE_1</th>\n",
              "      <th>PRE_2</th>\n",
              "      <th>PRE_3</th>\n",
              "      <th>PRE_4</th>\n",
              "      <th>PRE_5</th>\n",
              "      <th>PRE_6</th>\n",
              "      <th>PRE_7</th>\n",
              "      <th>PRE_8</th>\n",
              "      <th>PRE_9</th>\n",
              "      <th>PRE_10</th>\n",
              "      <th>PRE_11</th>\n",
              "      <th>PRE_12</th>\n",
              "      <th>PRE_13</th>\n",
              "      <th>PRE_14</th>\n",
              "      <th>PRE_15</th>\n",
              "      <th>Q31_Max</th>\n",
              "      <th>Q32_Max</th>\n",
              "      <th>Q33_Max</th>\n",
              "      <th>Q34_Max</th>\n",
              "      <th>ENI_Factors</th>\n",
              "      <th>BGE_Factors</th>\n",
              "      <th>OGA_Factors</th>\n",
              "      <th>TECH_Factors</th>\n",
              "      <th>PIR_Factors</th>\n",
              "    </tr>\n",
              "  </thead>\n",
              "  <tbody>\n",
              "    <tr>\n",
              "      <th>count</th>\n",
              "      <td>1099.000000</td>\n",
              "      <td>1099.000000</td>\n",
              "      <td>1099.000000</td>\n",
              "      <td>1099.000000</td>\n",
              "      <td>1099.000000</td>\n",
              "      <td>1099.000000</td>\n",
              "      <td>1099.000000</td>\n",
              "      <td>1099.000000</td>\n",
              "      <td>456.000000</td>\n",
              "      <td>1099.000000</td>\n",
              "      <td>1099.000000</td>\n",
              "      <td>1099.000000</td>\n",
              "      <td>1099.000000</td>\n",
              "      <td>1099.000000</td>\n",
              "      <td>1099.000000</td>\n",
              "      <td>1099.000000</td>\n",
              "      <td>1099.000000</td>\n",
              "      <td>1099.000000</td>\n",
              "      <td>286.000000</td>\n",
              "      <td>286.000000</td>\n",
              "      <td>286.000000</td>\n",
              "      <td>286.000000</td>\n",
              "      <td>286.000000</td>\n",
              "      <td>286.000000</td>\n",
              "      <td>286.000000</td>\n",
              "      <td>286.000000</td>\n",
              "      <td>286.000000</td>\n",
              "      <td>286.000000</td>\n",
              "      <td>261.000000</td>\n",
              "      <td>261.000000</td>\n",
              "      <td>261.000000</td>\n",
              "      <td>261.000000</td>\n",
              "      <td>261.000000</td>\n",
              "      <td>261.000000</td>\n",
              "      <td>261.000000</td>\n",
              "      <td>261.000000</td>\n",
              "      <td>261.000000</td>\n",
              "      <td>261.000000</td>\n",
              "      <td>261.000000</td>\n",
              "      <td>261.000000</td>\n",
              "      <td>...</td>\n",
              "      <td>1099.000000</td>\n",
              "      <td>1099.0</td>\n",
              "      <td>1095.000000</td>\n",
              "      <td>1097.000000</td>\n",
              "      <td>1096.000000</td>\n",
              "      <td>1097.000000</td>\n",
              "      <td>1098.000000</td>\n",
              "      <td>1098.000000</td>\n",
              "      <td>1098.000000</td>\n",
              "      <td>1098.000000</td>\n",
              "      <td>1097.000000</td>\n",
              "      <td>1097.000000</td>\n",
              "      <td>1094.000000</td>\n",
              "      <td>261.000000</td>\n",
              "      <td>1096.000000</td>\n",
              "      <td>1097.000000</td>\n",
              "      <td>1058.000000</td>\n",
              "      <td>1058.000000</td>\n",
              "      <td>1058.000000</td>\n",
              "      <td>1058.000000</td>\n",
              "      <td>1058.000000</td>\n",
              "      <td>1058.000000</td>\n",
              "      <td>1080.000000</td>\n",
              "      <td>1081.000000</td>\n",
              "      <td>1081.000000</td>\n",
              "      <td>1081.000000</td>\n",
              "      <td>1081.000000</td>\n",
              "      <td>1080.000000</td>\n",
              "      <td>1080.000000</td>\n",
              "      <td>1056.000000</td>\n",
              "      <td>1055.000000</td>\n",
              "      <td>1099.000000</td>\n",
              "      <td>1099.000000</td>\n",
              "      <td>1099.000000</td>\n",
              "      <td>1099.000000</td>\n",
              "      <td>1.099000e+03</td>\n",
              "      <td>1.099000e+03</td>\n",
              "      <td>1.099000e+03</td>\n",
              "      <td>1.099000e+03</td>\n",
              "      <td>1.099000e+03</td>\n",
              "    </tr>\n",
              "    <tr>\n",
              "      <th>mean</th>\n",
              "      <td>1.935396</td>\n",
              "      <td>2.367607</td>\n",
              "      <td>0.683348</td>\n",
              "      <td>0.427662</td>\n",
              "      <td>0.673339</td>\n",
              "      <td>0.226570</td>\n",
              "      <td>0.058235</td>\n",
              "      <td>0.193813</td>\n",
              "      <td>0.070175</td>\n",
              "      <td>3.341219</td>\n",
              "      <td>4.290264</td>\n",
              "      <td>4.330300</td>\n",
              "      <td>3.478617</td>\n",
              "      <td>3.363967</td>\n",
              "      <td>3.510464</td>\n",
              "      <td>2.535032</td>\n",
              "      <td>2.699727</td>\n",
              "      <td>2.347589</td>\n",
              "      <td>5.171329</td>\n",
              "      <td>1.853147</td>\n",
              "      <td>1.374126</td>\n",
              "      <td>1.580420</td>\n",
              "      <td>2.993007</td>\n",
              "      <td>1.688811</td>\n",
              "      <td>2.667832</td>\n",
              "      <td>1.881119</td>\n",
              "      <td>1.811189</td>\n",
              "      <td>1.912587</td>\n",
              "      <td>2.720307</td>\n",
              "      <td>1.409962</td>\n",
              "      <td>3.367816</td>\n",
              "      <td>4.655172</td>\n",
              "      <td>3.773946</td>\n",
              "      <td>4.816092</td>\n",
              "      <td>3.149425</td>\n",
              "      <td>4.961686</td>\n",
              "      <td>3.946360</td>\n",
              "      <td>2.731801</td>\n",
              "      <td>2.076628</td>\n",
              "      <td>1.632184</td>\n",
              "      <td>...</td>\n",
              "      <td>0.260237</td>\n",
              "      <td>1.0</td>\n",
              "      <td>3.694064</td>\n",
              "      <td>0.454877</td>\n",
              "      <td>0.197993</td>\n",
              "      <td>0.154968</td>\n",
              "      <td>0.088342</td>\n",
              "      <td>0.037341</td>\n",
              "      <td>0.046448</td>\n",
              "      <td>0.035519</td>\n",
              "      <td>0.050137</td>\n",
              "      <td>0.038286</td>\n",
              "      <td>6.915905</td>\n",
              "      <td>24.724138</td>\n",
              "      <td>6.729927</td>\n",
              "      <td>0.545123</td>\n",
              "      <td>0.080578</td>\n",
              "      <td>0.080578</td>\n",
              "      <td>0.082799</td>\n",
              "      <td>0.101492</td>\n",
              "      <td>0.084276</td>\n",
              "      <td>0.106565</td>\n",
              "      <td>0.093028</td>\n",
              "      <td>0.084607</td>\n",
              "      <td>0.089719</td>\n",
              "      <td>0.089719</td>\n",
              "      <td>0.084607</td>\n",
              "      <td>0.081141</td>\n",
              "      <td>0.093028</td>\n",
              "      <td>0.112033</td>\n",
              "      <td>0.107718</td>\n",
              "      <td>2.949045</td>\n",
              "      <td>2.890810</td>\n",
              "      <td>3.086442</td>\n",
              "      <td>2.657871</td>\n",
              "      <td>1.082947e-16</td>\n",
              "      <td>3.184188e-16</td>\n",
              "      <td>1.672911e-16</td>\n",
              "      <td>5.479390e-16</td>\n",
              "      <td>1.586033e-16</td>\n",
              "    </tr>\n",
              "    <tr>\n",
              "      <th>std</th>\n",
              "      <td>0.762517</td>\n",
              "      <td>0.586340</td>\n",
              "      <td>0.465382</td>\n",
              "      <td>0.494965</td>\n",
              "      <td>0.469205</td>\n",
              "      <td>0.418802</td>\n",
              "      <td>0.234293</td>\n",
              "      <td>0.395464</td>\n",
              "      <td>0.255723</td>\n",
              "      <td>0.919849</td>\n",
              "      <td>0.904555</td>\n",
              "      <td>0.840191</td>\n",
              "      <td>1.239986</td>\n",
              "      <td>1.176738</td>\n",
              "      <td>1.127011</td>\n",
              "      <td>1.247001</td>\n",
              "      <td>1.320605</td>\n",
              "      <td>1.325531</td>\n",
              "      <td>2.199366</td>\n",
              "      <td>0.354580</td>\n",
              "      <td>0.742137</td>\n",
              "      <td>0.494355</td>\n",
              "      <td>0.187186</td>\n",
              "      <td>0.953855</td>\n",
              "      <td>1.174949</td>\n",
              "      <td>0.324216</td>\n",
              "      <td>0.392045</td>\n",
              "      <td>0.282934</td>\n",
              "      <td>2.154229</td>\n",
              "      <td>0.726250</td>\n",
              "      <td>1.732816</td>\n",
              "      <td>1.555345</td>\n",
              "      <td>1.677524</td>\n",
              "      <td>1.704262</td>\n",
              "      <td>1.683829</td>\n",
              "      <td>1.437970</td>\n",
              "      <td>2.131494</td>\n",
              "      <td>1.013801</td>\n",
              "      <td>0.790490</td>\n",
              "      <td>0.882936</td>\n",
              "      <td>...</td>\n",
              "      <td>0.438963</td>\n",
              "      <td>0.0</td>\n",
              "      <td>1.666015</td>\n",
              "      <td>0.498187</td>\n",
              "      <td>0.398669</td>\n",
              "      <td>0.362039</td>\n",
              "      <td>0.283922</td>\n",
              "      <td>0.189681</td>\n",
              "      <td>0.210549</td>\n",
              "      <td>0.185172</td>\n",
              "      <td>0.218327</td>\n",
              "      <td>0.191974</td>\n",
              "      <td>2.478870</td>\n",
              "      <td>5.992989</td>\n",
              "      <td>2.177103</td>\n",
              "      <td>0.498187</td>\n",
              "      <td>0.153038</td>\n",
              "      <td>0.153038</td>\n",
              "      <td>0.152812</td>\n",
              "      <td>0.161207</td>\n",
              "      <td>0.157575</td>\n",
              "      <td>0.161400</td>\n",
              "      <td>0.126327</td>\n",
              "      <td>0.131457</td>\n",
              "      <td>0.126645</td>\n",
              "      <td>0.126645</td>\n",
              "      <td>0.131457</td>\n",
              "      <td>0.130273</td>\n",
              "      <td>0.126327</td>\n",
              "      <td>0.167317</td>\n",
              "      <td>0.162901</td>\n",
              "      <td>1.859634</td>\n",
              "      <td>2.309184</td>\n",
              "      <td>1.783549</td>\n",
              "      <td>2.052889</td>\n",
              "      <td>1.569372e+00</td>\n",
              "      <td>1.510698e+00</td>\n",
              "      <td>1.761044e+00</td>\n",
              "      <td>2.402997e+00</td>\n",
              "      <td>1.857773e+00</td>\n",
              "    </tr>\n",
              "    <tr>\n",
              "      <th>min</th>\n",
              "      <td>1.000000</td>\n",
              "      <td>0.000000</td>\n",
              "      <td>0.000000</td>\n",
              "      <td>0.000000</td>\n",
              "      <td>0.000000</td>\n",
              "      <td>0.000000</td>\n",
              "      <td>0.000000</td>\n",
              "      <td>0.000000</td>\n",
              "      <td>0.000000</td>\n",
              "      <td>0.000000</td>\n",
              "      <td>1.000000</td>\n",
              "      <td>1.000000</td>\n",
              "      <td>1.000000</td>\n",
              "      <td>0.000000</td>\n",
              "      <td>0.000000</td>\n",
              "      <td>1.000000</td>\n",
              "      <td>0.000000</td>\n",
              "      <td>0.000000</td>\n",
              "      <td>1.000000</td>\n",
              "      <td>1.000000</td>\n",
              "      <td>1.000000</td>\n",
              "      <td>1.000000</td>\n",
              "      <td>1.000000</td>\n",
              "      <td>1.000000</td>\n",
              "      <td>1.000000</td>\n",
              "      <td>1.000000</td>\n",
              "      <td>1.000000</td>\n",
              "      <td>1.000000</td>\n",
              "      <td>1.000000</td>\n",
              "      <td>1.000000</td>\n",
              "      <td>1.000000</td>\n",
              "      <td>1.000000</td>\n",
              "      <td>1.000000</td>\n",
              "      <td>1.000000</td>\n",
              "      <td>1.000000</td>\n",
              "      <td>1.000000</td>\n",
              "      <td>1.000000</td>\n",
              "      <td>1.000000</td>\n",
              "      <td>1.000000</td>\n",
              "      <td>1.000000</td>\n",
              "      <td>...</td>\n",
              "      <td>0.000000</td>\n",
              "      <td>1.0</td>\n",
              "      <td>3.000000</td>\n",
              "      <td>0.000000</td>\n",
              "      <td>0.000000</td>\n",
              "      <td>0.000000</td>\n",
              "      <td>0.000000</td>\n",
              "      <td>0.000000</td>\n",
              "      <td>0.000000</td>\n",
              "      <td>0.000000</td>\n",
              "      <td>0.000000</td>\n",
              "      <td>0.000000</td>\n",
              "      <td>6.000000</td>\n",
              "      <td>6.000000</td>\n",
              "      <td>2.000000</td>\n",
              "      <td>0.000000</td>\n",
              "      <td>0.000198</td>\n",
              "      <td>0.000198</td>\n",
              "      <td>0.000197</td>\n",
              "      <td>0.000912</td>\n",
              "      <td>0.000391</td>\n",
              "      <td>0.001919</td>\n",
              "      <td>0.007889</td>\n",
              "      <td>0.002100</td>\n",
              "      <td>0.003767</td>\n",
              "      <td>0.003767</td>\n",
              "      <td>0.002100</td>\n",
              "      <td>0.007700</td>\n",
              "      <td>0.007889</td>\n",
              "      <td>0.001788</td>\n",
              "      <td>0.001573</td>\n",
              "      <td>0.000000</td>\n",
              "      <td>0.000000</td>\n",
              "      <td>0.000000</td>\n",
              "      <td>0.000000</td>\n",
              "      <td>-2.037903e+00</td>\n",
              "      <td>-2.384420e+00</td>\n",
              "      <td>-4.078790e+00</td>\n",
              "      <td>-5.054668e+00</td>\n",
              "      <td>-3.306052e+00</td>\n",
              "    </tr>\n",
              "    <tr>\n",
              "      <th>25%</th>\n",
              "      <td>1.000000</td>\n",
              "      <td>2.000000</td>\n",
              "      <td>0.000000</td>\n",
              "      <td>0.000000</td>\n",
              "      <td>0.000000</td>\n",
              "      <td>0.000000</td>\n",
              "      <td>0.000000</td>\n",
              "      <td>0.000000</td>\n",
              "      <td>0.000000</td>\n",
              "      <td>3.000000</td>\n",
              "      <td>4.000000</td>\n",
              "      <td>4.000000</td>\n",
              "      <td>2.000000</td>\n",
              "      <td>3.000000</td>\n",
              "      <td>3.000000</td>\n",
              "      <td>1.000000</td>\n",
              "      <td>2.000000</td>\n",
              "      <td>1.000000</td>\n",
              "      <td>3.250000</td>\n",
              "      <td>2.000000</td>\n",
              "      <td>1.000000</td>\n",
              "      <td>1.000000</td>\n",
              "      <td>3.000000</td>\n",
              "      <td>1.000000</td>\n",
              "      <td>2.000000</td>\n",
              "      <td>2.000000</td>\n",
              "      <td>2.000000</td>\n",
              "      <td>2.000000</td>\n",
              "      <td>1.000000</td>\n",
              "      <td>1.000000</td>\n",
              "      <td>2.000000</td>\n",
              "      <td>4.000000</td>\n",
              "      <td>3.000000</td>\n",
              "      <td>4.000000</td>\n",
              "      <td>2.000000</td>\n",
              "      <td>4.000000</td>\n",
              "      <td>2.000000</td>\n",
              "      <td>2.000000</td>\n",
              "      <td>2.000000</td>\n",
              "      <td>1.000000</td>\n",
              "      <td>...</td>\n",
              "      <td>0.000000</td>\n",
              "      <td>1.0</td>\n",
              "      <td>3.000000</td>\n",
              "      <td>0.000000</td>\n",
              "      <td>0.000000</td>\n",
              "      <td>0.000000</td>\n",
              "      <td>0.000000</td>\n",
              "      <td>0.000000</td>\n",
              "      <td>0.000000</td>\n",
              "      <td>0.000000</td>\n",
              "      <td>0.000000</td>\n",
              "      <td>0.000000</td>\n",
              "      <td>6.000000</td>\n",
              "      <td>21.000000</td>\n",
              "      <td>5.000000</td>\n",
              "      <td>0.000000</td>\n",
              "      <td>0.007755</td>\n",
              "      <td>0.007755</td>\n",
              "      <td>0.008088</td>\n",
              "      <td>0.012771</td>\n",
              "      <td>0.007101</td>\n",
              "      <td>0.017725</td>\n",
              "      <td>0.024408</td>\n",
              "      <td>0.012517</td>\n",
              "      <td>0.018428</td>\n",
              "      <td>0.018428</td>\n",
              "      <td>0.012517</td>\n",
              "      <td>0.012822</td>\n",
              "      <td>0.024408</td>\n",
              "      <td>0.017211</td>\n",
              "      <td>0.016894</td>\n",
              "      <td>1.000000</td>\n",
              "      <td>1.000000</td>\n",
              "      <td>1.000000</td>\n",
              "      <td>1.000000</td>\n",
              "      <td>-1.240610e+00</td>\n",
              "      <td>-1.167481e+00</td>\n",
              "      <td>-1.488684e+00</td>\n",
              "      <td>-1.813052e+00</td>\n",
              "      <td>-1.908558e+00</td>\n",
              "    </tr>\n",
              "    <tr>\n",
              "      <th>50%</th>\n",
              "      <td>2.000000</td>\n",
              "      <td>2.000000</td>\n",
              "      <td>1.000000</td>\n",
              "      <td>0.000000</td>\n",
              "      <td>1.000000</td>\n",
              "      <td>0.000000</td>\n",
              "      <td>0.000000</td>\n",
              "      <td>0.000000</td>\n",
              "      <td>0.000000</td>\n",
              "      <td>3.000000</td>\n",
              "      <td>5.000000</td>\n",
              "      <td>5.000000</td>\n",
              "      <td>4.000000</td>\n",
              "      <td>3.000000</td>\n",
              "      <td>4.000000</td>\n",
              "      <td>2.000000</td>\n",
              "      <td>3.000000</td>\n",
              "      <td>2.000000</td>\n",
              "      <td>6.000000</td>\n",
              "      <td>2.000000</td>\n",
              "      <td>1.000000</td>\n",
              "      <td>2.000000</td>\n",
              "      <td>3.000000</td>\n",
              "      <td>1.500000</td>\n",
              "      <td>3.000000</td>\n",
              "      <td>2.000000</td>\n",
              "      <td>2.000000</td>\n",
              "      <td>2.000000</td>\n",
              "      <td>2.000000</td>\n",
              "      <td>1.000000</td>\n",
              "      <td>3.000000</td>\n",
              "      <td>5.000000</td>\n",
              "      <td>4.000000</td>\n",
              "      <td>6.000000</td>\n",
              "      <td>3.000000</td>\n",
              "      <td>6.000000</td>\n",
              "      <td>4.000000</td>\n",
              "      <td>3.000000</td>\n",
              "      <td>2.000000</td>\n",
              "      <td>1.000000</td>\n",
              "      <td>...</td>\n",
              "      <td>0.000000</td>\n",
              "      <td>1.0</td>\n",
              "      <td>3.000000</td>\n",
              "      <td>0.000000</td>\n",
              "      <td>0.000000</td>\n",
              "      <td>0.000000</td>\n",
              "      <td>0.000000</td>\n",
              "      <td>0.000000</td>\n",
              "      <td>0.000000</td>\n",
              "      <td>0.000000</td>\n",
              "      <td>0.000000</td>\n",
              "      <td>0.000000</td>\n",
              "      <td>6.000000</td>\n",
              "      <td>25.000000</td>\n",
              "      <td>7.000000</td>\n",
              "      <td>1.000000</td>\n",
              "      <td>0.020032</td>\n",
              "      <td>0.020032</td>\n",
              "      <td>0.021043</td>\n",
              "      <td>0.033481</td>\n",
              "      <td>0.021472</td>\n",
              "      <td>0.041670</td>\n",
              "      <td>0.048273</td>\n",
              "      <td>0.030044</td>\n",
              "      <td>0.039362</td>\n",
              "      <td>0.039362</td>\n",
              "      <td>0.030044</td>\n",
              "      <td>0.032870</td>\n",
              "      <td>0.048273</td>\n",
              "      <td>0.043836</td>\n",
              "      <td>0.042508</td>\n",
              "      <td>3.000000</td>\n",
              "      <td>2.000000</td>\n",
              "      <td>3.000000</td>\n",
              "      <td>2.000000</td>\n",
              "      <td>5.777607e-03</td>\n",
              "      <td>2.055977e-01</td>\n",
              "      <td>-2.981846e-01</td>\n",
              "      <td>1.682694e-01</td>\n",
              "      <td>-5.110652e-01</td>\n",
              "    </tr>\n",
              "    <tr>\n",
              "      <th>75%</th>\n",
              "      <td>3.000000</td>\n",
              "      <td>3.000000</td>\n",
              "      <td>1.000000</td>\n",
              "      <td>1.000000</td>\n",
              "      <td>1.000000</td>\n",
              "      <td>0.000000</td>\n",
              "      <td>0.000000</td>\n",
              "      <td>0.000000</td>\n",
              "      <td>0.000000</td>\n",
              "      <td>4.000000</td>\n",
              "      <td>5.000000</td>\n",
              "      <td>5.000000</td>\n",
              "      <td>5.000000</td>\n",
              "      <td>4.000000</td>\n",
              "      <td>4.000000</td>\n",
              "      <td>3.000000</td>\n",
              "      <td>4.000000</td>\n",
              "      <td>3.000000</td>\n",
              "      <td>7.000000</td>\n",
              "      <td>2.000000</td>\n",
              "      <td>2.000000</td>\n",
              "      <td>2.000000</td>\n",
              "      <td>3.000000</td>\n",
              "      <td>2.000000</td>\n",
              "      <td>4.000000</td>\n",
              "      <td>2.000000</td>\n",
              "      <td>2.000000</td>\n",
              "      <td>2.000000</td>\n",
              "      <td>3.000000</td>\n",
              "      <td>2.000000</td>\n",
              "      <td>5.000000</td>\n",
              "      <td>6.000000</td>\n",
              "      <td>5.000000</td>\n",
              "      <td>6.000000</td>\n",
              "      <td>4.000000</td>\n",
              "      <td>6.000000</td>\n",
              "      <td>6.000000</td>\n",
              "      <td>4.000000</td>\n",
              "      <td>3.000000</td>\n",
              "      <td>2.000000</td>\n",
              "      <td>...</td>\n",
              "      <td>1.000000</td>\n",
              "      <td>1.0</td>\n",
              "      <td>4.000000</td>\n",
              "      <td>1.000000</td>\n",
              "      <td>0.000000</td>\n",
              "      <td>0.000000</td>\n",
              "      <td>0.000000</td>\n",
              "      <td>0.000000</td>\n",
              "      <td>0.000000</td>\n",
              "      <td>0.000000</td>\n",
              "      <td>0.000000</td>\n",
              "      <td>0.000000</td>\n",
              "      <td>7.000000</td>\n",
              "      <td>29.000000</td>\n",
              "      <td>8.000000</td>\n",
              "      <td>1.000000</td>\n",
              "      <td>0.068834</td>\n",
              "      <td>0.068834</td>\n",
              "      <td>0.073540</td>\n",
              "      <td>0.109133</td>\n",
              "      <td>0.070374</td>\n",
              "      <td>0.113747</td>\n",
              "      <td>0.088941</td>\n",
              "      <td>0.098540</td>\n",
              "      <td>0.104500</td>\n",
              "      <td>0.104500</td>\n",
              "      <td>0.098540</td>\n",
              "      <td>0.076729</td>\n",
              "      <td>0.088941</td>\n",
              "      <td>0.121277</td>\n",
              "      <td>0.114970</td>\n",
              "      <td>4.000000</td>\n",
              "      <td>4.000000</td>\n",
              "      <td>5.000000</td>\n",
              "      <td>3.000000</td>\n",
              "      <td>8.282148e-01</td>\n",
              "      <td>9.793463e-01</td>\n",
              "      <td>1.624827e+00</td>\n",
              "      <td>1.746208e+00</td>\n",
              "      <td>1.320077e+00</td>\n",
              "    </tr>\n",
              "    <tr>\n",
              "      <th>max</th>\n",
              "      <td>3.000000</td>\n",
              "      <td>5.000000</td>\n",
              "      <td>1.000000</td>\n",
              "      <td>1.000000</td>\n",
              "      <td>1.000000</td>\n",
              "      <td>1.000000</td>\n",
              "      <td>1.000000</td>\n",
              "      <td>1.000000</td>\n",
              "      <td>1.000000</td>\n",
              "      <td>5.000000</td>\n",
              "      <td>5.000000</td>\n",
              "      <td>5.000000</td>\n",
              "      <td>5.000000</td>\n",
              "      <td>5.000000</td>\n",
              "      <td>5.000000</td>\n",
              "      <td>5.000000</td>\n",
              "      <td>5.000000</td>\n",
              "      <td>5.000000</td>\n",
              "      <td>7.000000</td>\n",
              "      <td>2.000000</td>\n",
              "      <td>5.000000</td>\n",
              "      <td>2.000000</td>\n",
              "      <td>4.000000</td>\n",
              "      <td>5.000000</td>\n",
              "      <td>6.000000</td>\n",
              "      <td>2.000000</td>\n",
              "      <td>2.000000</td>\n",
              "      <td>2.000000</td>\n",
              "      <td>7.000000</td>\n",
              "      <td>3.000000</td>\n",
              "      <td>6.000000</td>\n",
              "      <td>6.000000</td>\n",
              "      <td>6.000000</td>\n",
              "      <td>6.000000</td>\n",
              "      <td>6.000000</td>\n",
              "      <td>6.000000</td>\n",
              "      <td>7.000000</td>\n",
              "      <td>5.000000</td>\n",
              "      <td>5.000000</td>\n",
              "      <td>6.000000</td>\n",
              "      <td>...</td>\n",
              "      <td>1.000000</td>\n",
              "      <td>1.0</td>\n",
              "      <td>15.000000</td>\n",
              "      <td>1.000000</td>\n",
              "      <td>1.000000</td>\n",
              "      <td>1.000000</td>\n",
              "      <td>1.000000</td>\n",
              "      <td>1.000000</td>\n",
              "      <td>1.000000</td>\n",
              "      <td>1.000000</td>\n",
              "      <td>1.000000</td>\n",
              "      <td>1.000000</td>\n",
              "      <td>30.000000</td>\n",
              "      <td>36.000000</td>\n",
              "      <td>10.000000</td>\n",
              "      <td>1.000000</td>\n",
              "      <td>0.991056</td>\n",
              "      <td>0.991056</td>\n",
              "      <td>0.997089</td>\n",
              "      <td>0.993458</td>\n",
              "      <td>0.977985</td>\n",
              "      <td>0.976381</td>\n",
              "      <td>0.898010</td>\n",
              "      <td>0.960405</td>\n",
              "      <td>0.948294</td>\n",
              "      <td>0.948294</td>\n",
              "      <td>0.960405</td>\n",
              "      <td>0.890571</td>\n",
              "      <td>0.898010</td>\n",
              "      <td>0.957779</td>\n",
              "      <td>0.957653</td>\n",
              "      <td>8.000000</td>\n",
              "      <td>9.000000</td>\n",
              "      <td>8.000000</td>\n",
              "      <td>9.000000</td>\n",
              "      <td>7.755935e+00</td>\n",
              "      <td>8.128382e+00</td>\n",
              "      <td>4.788713e+00</td>\n",
              "      <td>5.980300e+00</td>\n",
              "      <td>3.681414e+00</td>\n",
              "    </tr>\n",
              "  </tbody>\n",
              "</table>\n",
              "<p>8 rows × 204 columns</p>\n",
              "</div>"
            ],
            "text/plain": [
              "       DataFileCountryofOrigin           Q1  ...  TECH_Factors   PIR_Factors\n",
              "count              1099.000000  1099.000000  ...  1.099000e+03  1.099000e+03\n",
              "mean                  1.935396     2.367607  ...  5.479390e-16  1.586033e-16\n",
              "std                   0.762517     0.586340  ...  2.402997e+00  1.857773e+00\n",
              "min                   1.000000     0.000000  ... -5.054668e+00 -3.306052e+00\n",
              "25%                   1.000000     2.000000  ... -1.813052e+00 -1.908558e+00\n",
              "50%                   2.000000     2.000000  ...  1.682694e-01 -5.110652e-01\n",
              "75%                   3.000000     3.000000  ...  1.746208e+00  1.320077e+00\n",
              "max                   3.000000     5.000000  ...  5.980300e+00  3.681414e+00\n",
              "\n",
              "[8 rows x 204 columns]"
            ]
          },
          "metadata": {
            "tags": []
          },
          "execution_count": 25
        }
      ]
    },
    {
      "cell_type": "code",
      "metadata": {
        "id": "eZdMCXPlEu6F",
        "colab": {
          "base_uri": "https://localhost:8080/",
          "height": 252
        },
        "outputId": "dac98a43-8263-4e85-b601-83b66a5cf2ee"
      },
      "source": [
        "### Step 1: Constructing Train and Test Sets for Logistic Regression\n",
        "### I am going to grab only the relevant variables from our initial data set - The \"Update_PCA\" CSV. \n",
        "\n",
        "Data = df[['NO','DataFileCountryofOrigin','Q14','Q5','Q23', 'Q24','Q25', 'Q27', 'Q28','Q39', 'Q40', 'Q41', 'Q42', \n",
        "            'Q31_Max', 'Q32_Max','Q33_Max', 'Q34_Max', 'Male','ENI_Factors', 'BGE_Factors','OGA_Factors', 'TECH_Factors', \n",
        "            'PIR_Factors', 'Q26_1', 'Q26_4', 'Q36_16', 'Q36_18']]\n",
        "\n",
        "Data = Data.set_index(\"NO\")\n",
        "\n",
        "print(Data.shape)\n",
        "\n",
        "Data.head()"
      ],
      "execution_count": null,
      "outputs": [
        {
          "output_type": "stream",
          "text": [
            "(1099, 26)\n"
          ],
          "name": "stdout"
        },
        {
          "output_type": "execute_result",
          "data": {
            "text/html": [
              "<div>\n",
              "<style scoped>\n",
              "    .dataframe tbody tr th:only-of-type {\n",
              "        vertical-align: middle;\n",
              "    }\n",
              "\n",
              "    .dataframe tbody tr th {\n",
              "        vertical-align: top;\n",
              "    }\n",
              "\n",
              "    .dataframe thead th {\n",
              "        text-align: right;\n",
              "    }\n",
              "</style>\n",
              "<table border=\"1\" class=\"dataframe\">\n",
              "  <thead>\n",
              "    <tr style=\"text-align: right;\">\n",
              "      <th></th>\n",
              "      <th>DataFileCountryofOrigin</th>\n",
              "      <th>Q14</th>\n",
              "      <th>Q5</th>\n",
              "      <th>Q23</th>\n",
              "      <th>Q24</th>\n",
              "      <th>Q25</th>\n",
              "      <th>Q27</th>\n",
              "      <th>Q28</th>\n",
              "      <th>Q39</th>\n",
              "      <th>Q40</th>\n",
              "      <th>Q41</th>\n",
              "      <th>Q42</th>\n",
              "      <th>Q31_Max</th>\n",
              "      <th>Q32_Max</th>\n",
              "      <th>Q33_Max</th>\n",
              "      <th>Q34_Max</th>\n",
              "      <th>Male</th>\n",
              "      <th>ENI_Factors</th>\n",
              "      <th>BGE_Factors</th>\n",
              "      <th>OGA_Factors</th>\n",
              "      <th>TECH_Factors</th>\n",
              "      <th>PIR_Factors</th>\n",
              "      <th>Q26_1</th>\n",
              "      <th>Q26_4</th>\n",
              "      <th>Q36_16</th>\n",
              "      <th>Q36_18</th>\n",
              "    </tr>\n",
              "    <tr>\n",
              "      <th>NO</th>\n",
              "      <th></th>\n",
              "      <th></th>\n",
              "      <th></th>\n",
              "      <th></th>\n",
              "      <th></th>\n",
              "      <th></th>\n",
              "      <th></th>\n",
              "      <th></th>\n",
              "      <th></th>\n",
              "      <th></th>\n",
              "      <th></th>\n",
              "      <th></th>\n",
              "      <th></th>\n",
              "      <th></th>\n",
              "      <th></th>\n",
              "      <th></th>\n",
              "      <th></th>\n",
              "      <th></th>\n",
              "      <th></th>\n",
              "      <th></th>\n",
              "      <th></th>\n",
              "      <th></th>\n",
              "      <th></th>\n",
              "      <th></th>\n",
              "      <th></th>\n",
              "      <th></th>\n",
              "    </tr>\n",
              "  </thead>\n",
              "  <tbody>\n",
              "    <tr>\n",
              "      <th>sg1</th>\n",
              "      <td>2</td>\n",
              "      <td>NaN</td>\n",
              "      <td>NaN</td>\n",
              "      <td>NaN</td>\n",
              "      <td>NaN</td>\n",
              "      <td>NaN</td>\n",
              "      <td>3.0</td>\n",
              "      <td>2.0</td>\n",
              "      <td>1</td>\n",
              "      <td>NaN</td>\n",
              "      <td>5</td>\n",
              "      <td>1</td>\n",
              "      <td>1.0</td>\n",
              "      <td>2.0</td>\n",
              "      <td>2.0</td>\n",
              "      <td>2.0</td>\n",
              "      <td>NaN</td>\n",
              "      <td>0.410557</td>\n",
              "      <td>1.365297</td>\n",
              "      <td>0.066123</td>\n",
              "      <td>1.690926</td>\n",
              "      <td>1.320077</td>\n",
              "      <td>3</td>\n",
              "      <td>5.0</td>\n",
              "      <td>3.0</td>\n",
              "      <td>3.0</td>\n",
              "    </tr>\n",
              "    <tr>\n",
              "      <th>en38</th>\n",
              "      <td>2</td>\n",
              "      <td>NaN</td>\n",
              "      <td>NaN</td>\n",
              "      <td>NaN</td>\n",
              "      <td>NaN</td>\n",
              "      <td>NaN</td>\n",
              "      <td>5.0</td>\n",
              "      <td>2.0</td>\n",
              "      <td>0</td>\n",
              "      <td>NaN</td>\n",
              "      <td>0</td>\n",
              "      <td>0</td>\n",
              "      <td>2.0</td>\n",
              "      <td>2.0</td>\n",
              "      <td>2.0</td>\n",
              "      <td>2.0</td>\n",
              "      <td>NaN</td>\n",
              "      <td>-1.612441</td>\n",
              "      <td>8.128382</td>\n",
              "      <td>2.822864</td>\n",
              "      <td>-2.622617</td>\n",
              "      <td>-0.511065</td>\n",
              "      <td>2</td>\n",
              "      <td>2.0</td>\n",
              "      <td>3.0</td>\n",
              "      <td>4.0</td>\n",
              "    </tr>\n",
              "    <tr>\n",
              "      <th>re25</th>\n",
              "      <td>2</td>\n",
              "      <td>NaN</td>\n",
              "      <td>NaN</td>\n",
              "      <td>NaN</td>\n",
              "      <td>NaN</td>\n",
              "      <td>NaN</td>\n",
              "      <td>2.0</td>\n",
              "      <td>4.0</td>\n",
              "      <td>3</td>\n",
              "      <td>NaN</td>\n",
              "      <td>1</td>\n",
              "      <td>1</td>\n",
              "      <td>5.0</td>\n",
              "      <td>2.0</td>\n",
              "      <td>2.0</td>\n",
              "      <td>2.0</td>\n",
              "      <td>0.0</td>\n",
              "      <td>0.815450</td>\n",
              "      <td>0.673172</td>\n",
              "      <td>-1.527111</td>\n",
              "      <td>2.153578</td>\n",
              "      <td>0.296094</td>\n",
              "      <td>5</td>\n",
              "      <td>4.0</td>\n",
              "      <td>3.0</td>\n",
              "      <td>3.0</td>\n",
              "    </tr>\n",
              "    <tr>\n",
              "      <th>re47</th>\n",
              "      <td>2</td>\n",
              "      <td>NaN</td>\n",
              "      <td>NaN</td>\n",
              "      <td>NaN</td>\n",
              "      <td>NaN</td>\n",
              "      <td>NaN</td>\n",
              "      <td>1.0</td>\n",
              "      <td>4.0</td>\n",
              "      <td>3</td>\n",
              "      <td>NaN</td>\n",
              "      <td>1</td>\n",
              "      <td>1</td>\n",
              "      <td>3.0</td>\n",
              "      <td>2.0</td>\n",
              "      <td>3.0</td>\n",
              "      <td>2.0</td>\n",
              "      <td>0.0</td>\n",
              "      <td>0.469872</td>\n",
              "      <td>-1.689587</td>\n",
              "      <td>-0.095561</td>\n",
              "      <td>-0.398677</td>\n",
              "      <td>-1.908558</td>\n",
              "      <td>4</td>\n",
              "      <td>3.0</td>\n",
              "      <td>1.0</td>\n",
              "      <td>3.0</td>\n",
              "    </tr>\n",
              "    <tr>\n",
              "      <th>re44</th>\n",
              "      <td>2</td>\n",
              "      <td>NaN</td>\n",
              "      <td>NaN</td>\n",
              "      <td>NaN</td>\n",
              "      <td>NaN</td>\n",
              "      <td>NaN</td>\n",
              "      <td>1.0</td>\n",
              "      <td>5.0</td>\n",
              "      <td>5</td>\n",
              "      <td>NaN</td>\n",
              "      <td>2</td>\n",
              "      <td>2</td>\n",
              "      <td>2.0</td>\n",
              "      <td>0.0</td>\n",
              "      <td>8.0</td>\n",
              "      <td>0.0</td>\n",
              "      <td>0.0</td>\n",
              "      <td>2.409520</td>\n",
              "      <td>2.858529</td>\n",
              "      <td>-1.960660</td>\n",
              "      <td>2.564042</td>\n",
              "      <td>-1.101400</td>\n",
              "      <td>6</td>\n",
              "      <td>2.0</td>\n",
              "      <td>3.0</td>\n",
              "      <td>3.0</td>\n",
              "    </tr>\n",
              "  </tbody>\n",
              "</table>\n",
              "</div>"
            ],
            "text/plain": [
              "      DataFileCountryofOrigin  Q14  Q5  Q23  ...  Q26_1  Q26_4  Q36_16  Q36_18\n",
              "NO                                           ...                              \n",
              "sg1                         2  NaN NaN  NaN  ...      3    5.0     3.0     3.0\n",
              "en38                        2  NaN NaN  NaN  ...      2    2.0     3.0     4.0\n",
              "re25                        2  NaN NaN  NaN  ...      5    4.0     3.0     3.0\n",
              "re47                        2  NaN NaN  NaN  ...      4    3.0     1.0     3.0\n",
              "re44                        2  NaN NaN  NaN  ...      6    2.0     3.0     3.0\n",
              "\n",
              "[5 rows x 26 columns]"
            ]
          },
          "metadata": {
            "tags": []
          },
          "execution_count": 27
        }
      ]
    },
    {
      "cell_type": "code",
      "metadata": {
        "id": "Xlgvx0TnEu6G",
        "colab": {
          "base_uri": "https://localhost:8080/"
        },
        "outputId": "79294608-f140-4154-a44f-04e3192a377b"
      },
      "source": [
        "### Renaming columns for ease of interpretation later\n",
        "\n",
        "Data = Data.rename(columns={\"Q31_Max\": \"phy_for_intensity\", \"Q32_Max\": \"cyb_for_intensity\",\n",
        "                            \"Q33_Max\":\"phy_hom_intensity\",\"Q34_Max\":\"cyb_hom_intensity\",\n",
        "                            \"DataFileCountryofOrigin\": \"Country\", \"Q14\":\"Facebook\",\n",
        "                           \"Q5\":\"AccessInternetAccounts\",\"Q23\":\"TrustNewsFBPerson\", \n",
        "                            \"Q24\": \"TrustNewsFBGral\", \"Q25\": \"TrustMost\",\n",
        "                           \"Q27\": \"HrsCompWorkSchool\", \"Q28\":\"HrsCompNotWorkSchool\",\n",
        "                           \"Q39\": \"Educ_Level\", \"Q40\":\"University\", \"Q41\":\"Employment\",\n",
        "                           \"Q42\":\"MaritalStatus\",\"Q26_1\": \"ChatroomHRS\",\"Q26_4\": \"InformationSearches\",\"Q36_16\": \"SportCompWin\",\"Q36_18\": \"UseForce\"})\n",
        "\n",
        "\n",
        "Data.shape ### I have 1099 rows with 22 columns\n",
        "Data.columns\n"
      ],
      "execution_count": null,
      "outputs": [
        {
          "output_type": "execute_result",
          "data": {
            "text/plain": [
              "Index(['Country', 'Facebook', 'AccessInternetAccounts', 'TrustNewsFBPerson',\n",
              "       'TrustNewsFBGral', 'TrustMost', 'HrsCompWorkSchool',\n",
              "       'HrsCompNotWorkSchool', 'Educ_Level', 'University', 'Employment',\n",
              "       'MaritalStatus', 'phy_for_intensity', 'cyb_for_intensity',\n",
              "       'phy_hom_intensity', 'cyb_hom_intensity', 'Male', 'ENI_Factors',\n",
              "       'BGE_Factors', 'OGA_Factors', 'TECH_Factors', 'PIR_Factors',\n",
              "       'ChatroomHRS', 'InformationSearches', 'SportCompWin', 'UseForce'],\n",
              "      dtype='object')"
            ]
          },
          "metadata": {
            "tags": []
          },
          "execution_count": 28
        }
      ]
    },
    {
      "cell_type": "code",
      "metadata": {
        "colab": {
          "base_uri": "https://localhost:8080/"
        },
        "id": "Jruaaxjng1ik",
        "outputId": "be6ff386-e772-4120-dc81-c898ea6e602b"
      },
      "source": [
        "### More data clean up: I am dropping a couple rows because their 'Male' value is blank.\n",
        "\n",
        "Data = Data.drop(['sg1', 'en38'])\n",
        "Data = Data.round(2)\n",
        "Data = Data.fillna(0)\n",
        "Data.shape"
      ],
      "execution_count": null,
      "outputs": [
        {
          "output_type": "execute_result",
          "data": {
            "text/plain": [
              "(1097, 26)"
            ]
          },
          "metadata": {
            "tags": []
          },
          "execution_count": 29
        }
      ]
    },
    {
      "cell_type": "code",
      "metadata": {
        "id": "fxbVkDUpEu6H"
      },
      "source": [
        "### This function categorizes the 4 attack intensity variables into low, medium or high. From Hiwot Girma's code.\n",
        "\n",
        "def createCyberIntensity(row, col_name):\n",
        "  if(row[col_name]<=1):\n",
        "    return 'low'\n",
        "  if(row[col_name] >1 and row[col_name]<=4):\n",
        "    return 'medium'\n",
        "  else:\n",
        "    return 'high'"
      ],
      "execution_count": null,
      "outputs": []
    },
    {
      "cell_type": "code",
      "metadata": {
        "id": "9bx2KBC9Eu6H"
      },
      "source": [
        "### Now we are applying the low/medium/high funciton to the 4 attack intensity variables (originally, the 'max value' variables)\n",
        "\n",
        "Data['cyb_hom_intensity'] = Data.apply (lambda row: createCyberIntensity(row, 'cyb_hom_intensity'), axis=1)\n",
        "Data['cyb_for_intensity'] = Data.apply (lambda row: createCyberIntensity(row, 'cyb_for_intensity'), axis=1)\n",
        "Data['phy_for_intensity'] = Data.apply (lambda row: createCyberIntensity(row, 'phy_for_intensity'), axis=1)\n",
        "Data['phy_hom_intensity'] = Data.apply (lambda row: createCyberIntensity(row, 'phy_hom_intensity'), axis=1)"
      ],
      "execution_count": null,
      "outputs": []
    },
    {
      "cell_type": "code",
      "metadata": {
        "id": "g-jFVLa1n-_V"
      },
      "source": [
        "### Now I'm going to take a look at the distributions of the 4 categorized attack intensity variables.\n",
        "CybHomeIntense = px.histogram(Data, x='cyb_hom_intensity', title=\"Distribution of Cyber Home Intensity\") \n",
        "CybHomeIntense.show()\n",
        "\n",
        "CybForeignIntense = px.histogram(Data, x='cyb_for_intensity', title=\"Distribution of Cyber Foreign Intensity\") \n",
        "CybForeignIntense.show()\n",
        "\n",
        "PhyHomeIntense = px.histogram(Data, x='phy_hom_intensity', title=\"Distribution of Physical Home Intensity\") \n",
        "PhyHomeIntense.show()\n",
        "\n",
        "\n",
        "PhyForeignIntense = px.histogram(Data, x='phy_for_intensity', title=\"Distribution of Physical Foreign Intensity\") \n",
        "PhyForeignIntense.show()\n"
      ],
      "execution_count": null,
      "outputs": []
    },
    {
      "cell_type": "code",
      "metadata": {
        "id": "QEJZfT7hVtS6"
      },
      "source": [
        "#this function is used to create a binary (0 or 1 ) target variable based on the categorized intensity variables for example, high cyber attack =1 else 0. \n",
        "def createTarget(row, col_name):\n",
        "  if(row[col_name]=='high'):\n",
        "    return 1\n",
        "  else:\n",
        "    return 0"
      ],
      "execution_count": null,
      "outputs": []
    },
    {
      "cell_type": "code",
      "metadata": {
        "id": "xSgsVadBVyn9"
      },
      "source": [
        "#Applying the binary target variable function to the 4 attack intensity variables\n",
        "\n",
        "Data['cyb_hom_target'] =Data.apply (lambda row: createTarget(row, 'cyb_hom_intensity'), axis=1)\n",
        "Data['cyb_for_target'] =Data.apply (lambda row: createTarget(row, 'cyb_for_intensity'), axis=1)\n",
        "Data['phy_hom_target'] =Data.apply (lambda row: createTarget(row, 'phy_hom_intensity'), axis=1)\n",
        "Data['phy_for_target'] =Data.apply (lambda row: createTarget(row, 'phy_for_intensity'), axis=1)"
      ],
      "execution_count": null,
      "outputs": []
    },
    {
      "cell_type": "code",
      "metadata": {
        "id": "oCC14abcY5g9"
      },
      "source": [
        "### Our 4 target variables are now in binary form and they are: ['cyb_hom_target','cyb_for_target', 'phy_hom_target', 'phy_for_target']"
      ],
      "execution_count": null,
      "outputs": []
    },
    {
      "cell_type": "code",
      "metadata": {
        "id": "9HVop_dgWwWG"
      },
      "source": [
        "#Initial variable selection\n",
        "pred_vars_all =['Country', 'Facebook', 'AccessInternetAccounts', 'TrustNewsFBPerson',\n",
        "                'TrustNewsFBGral', 'TrustMost', 'HrsCompWorkSchool','HrsCompNotWorkSchool', \n",
        "                'Educ_Level', 'Employment','MaritalStatus', \n",
        "                'ENI_Factors','OGA_Factors', 'TECH_Factors', 'PIR_Factors']\n"
      ],
      "execution_count": null,
      "outputs": []
    },
    {
      "cell_type": "code",
      "metadata": {
        "id": "NbME7tfkYKS5"
      },
      "source": [
        "### Here I am determining Predictive and Target Variables\n",
        "\n",
        "x = Data[pred_vars_all]\n",
        "\n",
        "y_1 = Data['cyb_hom_target']\n",
        "y_2 = Data['cyb_for_target']\n",
        "y_3 = Data['phy_hom_target']\n",
        "y_4 = Data['phy_for_target']"
      ],
      "execution_count": null,
      "outputs": []
    },
    {
      "cell_type": "code",
      "metadata": {
        "id": "EhJ8y6OyrDdm"
      },
      "source": [
        "# scale target variables for multinomial logistic regression (Low, Medium, High)\n",
        "y_1_scale = Data['cyb_hom_intensity']\n",
        "y_2_scale = Data['cyb_for_intensity']\n",
        "y_3_scale = Data['phy_hom_intensity']\n",
        "y_4_scale = Data['phy_for_intensity']"
      ],
      "execution_count": null,
      "outputs": []
    },
    {
      "cell_type": "markdown",
      "metadata": {
        "id": "x-57vlYdiix-"
      },
      "source": [
        "### 1. Cyber Attack - Home (80% Accuracy)"
      ]
    },
    {
      "cell_type": "code",
      "metadata": {
        "id": "GS1FOwobEu6J",
        "colab": {
          "base_uri": "https://localhost:8080/"
        },
        "outputId": "ec551d69-daff-4b2e-da2b-c9d9156524df"
      },
      "source": [
        "### Step 2: Split Data into train and test. \n",
        "\n",
        "x_1_train, x_1_test, y_1_train, y_1_test = train_test_split(x, y_1, test_size=.2, random_state=0)\n",
        "\n",
        "print(\"X Train Shape:\", x_1_train.shape)\n",
        "print(\"Y Train Shape:\", y_1_train.shape)\n",
        "print(\"X Test Shape:\", x_1_train.shape)\n",
        "print(\"Y Test Shape:\", y_1_train.shape)\n",
        "\n",
        "#Checking if target is unbalanced or not. 210 / 879. About 24%. Not so bad. ///// \n",
        "target = y_1_train.to_frame()\n",
        "fig = px.histogram(target, x='cyb_hom_target', title=\"Target Variable - check if unbalanced\") \n",
        "#fig.show()\n"
      ],
      "execution_count": null,
      "outputs": [
        {
          "output_type": "stream",
          "text": [
            "X Train Shape: (877, 15)\n",
            "Y Train Shape: (877,)\n",
            "X Test Shape: (877, 15)\n",
            "Y Test Shape: (877,)\n"
          ],
          "name": "stdout"
        }
      ]
    },
    {
      "cell_type": "code",
      "metadata": {
        "id": "7ZHQqaXYEu6K",
        "colab": {
          "base_uri": "https://localhost:8080/"
        },
        "outputId": "64dc18a0-c730-47ec-846e-908fe55eb745"
      },
      "source": [
        "### Fit Logistic Regression model on Cyber Home Target\n",
        "logmodel1 = LogisticRegression(max_iter=1000)\n",
        "logmodel1.fit(x_1_train,y_1_train)\n",
        "predictions = logmodel1.predict(x_1_test)\n",
        "print('Accuracy of logistic regression classifier on test set: {:.2f}'.format(logmodel1.score(x_1_test, y_1_test)))\n",
        "confusion_matrix(y_1_test, predictions)\n",
        "print(classification_report(y_1_test,predictions))"
      ],
      "execution_count": null,
      "outputs": [
        {
          "output_type": "stream",
          "text": [
            "Accuracy of logistic regression classifier on test set: 0.80\n",
            "              precision    recall  f1-score   support\n",
            "\n",
            "           0       0.80      1.00      0.89       175\n",
            "           1       1.00      0.04      0.09        45\n",
            "\n",
            "    accuracy                           0.80       220\n",
            "   macro avg       0.90      0.52      0.49       220\n",
            "weighted avg       0.84      0.80      0.73       220\n",
            "\n"
          ],
          "name": "stdout"
        }
      ]
    },
    {
      "cell_type": "markdown",
      "metadata": {
        "id": "RhtvrL1sjIkv"
      },
      "source": [
        "### 2. Cyber Attack - Foreign (76% Accuracy)\n",
        "\n",
        "\n"
      ]
    },
    {
      "cell_type": "code",
      "metadata": {
        "colab": {
          "base_uri": "https://localhost:8080/"
        },
        "id": "DrmZ2K4DgQMK",
        "outputId": "4c33151b-388c-410a-9203-cbda78c19c9e"
      },
      "source": [
        "### Step 1: Split Data into train and test. \n",
        "\n",
        "x_2_train, x_2_test, y_2_train, y_2_test = train_test_split(x, y_2, test_size=.2, random_state=0)\n",
        "\n",
        "print(\"X Train Shape:\", x_2_train.shape)\n",
        "print(\"Y Train Shape:\", y_2_train.shape)\n",
        "print(\"X Test Shape:\", x_2_train.shape)\n",
        "print(\"Y Test Shape:\", y_2_train.shape)\n",
        "\n",
        "#Checking if target is unbalanced or not. 210 / 879. About 24%. Not so bad.\n",
        "target = y_2_train.to_frame()\n",
        "fig = px.histogram(target, x='cyb_for_target', title=\"Target Variable - check if unbalanced\") \n",
        "#fig.show()\n"
      ],
      "execution_count": null,
      "outputs": [
        {
          "output_type": "stream",
          "text": [
            "X Train Shape: (877, 15)\n",
            "Y Train Shape: (877,)\n",
            "X Test Shape: (877, 15)\n",
            "Y Test Shape: (877,)\n"
          ],
          "name": "stdout"
        }
      ]
    },
    {
      "cell_type": "code",
      "metadata": {
        "colab": {
          "base_uri": "https://localhost:8080/"
        },
        "id": "lcVDEnqCjRtA",
        "outputId": "37a04893-a34f-411c-d575-c101819c9121"
      },
      "source": [
        "### Step : Fit Logistic Regression model on Cyber Foreign Attack\n",
        "logmodel2 = LogisticRegression(max_iter=1000)\n",
        "logmodel2.fit(x_2_train,y_2_train)\n",
        "predictions = logmodel2.predict(x_2_test)\n",
        "\n",
        "### Print Accuracy\n",
        "print('Accuracy of logistic regression classifier on test set: {:.2f}'.format(logmodel2.score(x_2_test, y_2_test)))\n",
        "\n",
        "### Print Confusion Matrix\n",
        "confusion_matrix(y_2_test, predictions)\n",
        "\n",
        "### Print Classification Report\n",
        "print(classification_report(y_2_test,predictions))"
      ],
      "execution_count": null,
      "outputs": [
        {
          "output_type": "stream",
          "text": [
            "Accuracy of logistic regression classifier on test set: 0.76\n",
            "              precision    recall  f1-score   support\n",
            "\n",
            "           0       0.77      0.98      0.86       169\n",
            "           1       0.43      0.06      0.10        51\n",
            "\n",
            "    accuracy                           0.76       220\n",
            "   macro avg       0.60      0.52      0.48       220\n",
            "weighted avg       0.69      0.76      0.69       220\n",
            "\n"
          ],
          "name": "stdout"
        }
      ]
    },
    {
      "cell_type": "markdown",
      "metadata": {
        "id": "eCK4XmTrjsFY"
      },
      "source": [
        "### 3. Physical Home Target (71% Accuracy)"
      ]
    },
    {
      "cell_type": "code",
      "metadata": {
        "colab": {
          "base_uri": "https://localhost:8080/"
        },
        "id": "w2E-XK5DjxGS",
        "outputId": "59c6549d-28f0-43cd-c035-e96b9f8ddd21"
      },
      "source": [
        "### Step 1: Split Data into train and test. \n",
        "\n",
        "x_3_train, x_3_test, y_3_train, y_3_test = train_test_split(x, y_3, test_size=.2, random_state=0)\n",
        "\n",
        "print(\"X Train Shape:\", x_3_train.shape)\n",
        "print(\"Y Train Shape:\", y_3_train.shape)\n",
        "print(\"X Test Shape:\", x_3_train.shape)\n",
        "print(\"Y Test Shape:\", y_3_train.shape)\n",
        "\n",
        "#Checking if target is unbalanced or not. 210 / 879. About 24%. Not so bad.\n",
        "target = y_3_train.to_frame()\n",
        "fig = px.histogram(target, x='phy_hom_target', title=\"Target Variable - check if unbalanced\") \n",
        "#fig.show()\n"
      ],
      "execution_count": null,
      "outputs": [
        {
          "output_type": "stream",
          "text": [
            "X Train Shape: (877, 15)\n",
            "Y Train Shape: (877,)\n",
            "X Test Shape: (877, 15)\n",
            "Y Test Shape: (877,)\n"
          ],
          "name": "stdout"
        }
      ]
    },
    {
      "cell_type": "code",
      "metadata": {
        "colab": {
          "base_uri": "https://localhost:8080/"
        },
        "id": "JP5biPZIj_pb",
        "outputId": "d12f7008-978d-4f22-d502-9b00aeced411"
      },
      "source": [
        "### Step : Fit Logistic Regression model on Physical Home Attack\n",
        "\n",
        "logmodel3 = LogisticRegression(max_iter=1000)\n",
        "logmodel3.fit(x_3_train,y_3_train)\n",
        "predictions = logmodel3.predict(x_3_test)\n",
        "\n",
        "### Print Accuracy\n",
        "print('Accuracy of logistic regression classifier on test set: {:.2f}'.format(logmodel3.score(x_3_test, y_3_test)))\n",
        "\n",
        "### Print Confusion Matrix\n",
        "confusion_matrix(y_3_test, predictions)\n",
        "\n",
        "### Print Classification Report\n",
        "print(classification_report(y_3_test,predictions))\n"
      ],
      "execution_count": null,
      "outputs": [
        {
          "output_type": "stream",
          "text": [
            "Accuracy of logistic regression classifier on test set: 0.71\n",
            "              precision    recall  f1-score   support\n",
            "\n",
            "           0       0.71      1.00      0.83       157\n",
            "           1       0.00      0.00      0.00        63\n",
            "\n",
            "    accuracy                           0.71       220\n",
            "   macro avg       0.36      0.50      0.42       220\n",
            "weighted avg       0.51      0.71      0.59       220\n",
            "\n"
          ],
          "name": "stdout"
        },
        {
          "output_type": "stream",
          "text": [
            "/usr/local/lib/python3.7/dist-packages/sklearn/metrics/_classification.py:1272: UndefinedMetricWarning:\n",
            "\n",
            "Precision and F-score are ill-defined and being set to 0.0 in labels with no predicted samples. Use `zero_division` parameter to control this behavior.\n",
            "\n"
          ],
          "name": "stderr"
        }
      ]
    },
    {
      "cell_type": "markdown",
      "metadata": {
        "id": "BVjLS7bGkXH0"
      },
      "source": [
        "### 4. Physical Foreign Target (75% Accuracy)"
      ]
    },
    {
      "cell_type": "code",
      "metadata": {
        "id": "qsVxG01hkbwi",
        "colab": {
          "base_uri": "https://localhost:8080/"
        },
        "outputId": "55276e4a-fa1e-4152-9187-50125dcacf8e"
      },
      "source": [
        "### Step 1: Split Data into train and test. \n",
        "\n",
        "x_4_train, x_4_test, y_4_train, y_4_test = train_test_split(x, y_4, test_size=.2, random_state=0)\n",
        "\n",
        "print(\"X Train Shape:\", x_4_train.shape)\n",
        "print(\"Y Train Shape:\", y_4_train.shape)\n",
        "print(\"X Test Shape:\", x_4_train.shape)\n",
        "print(\"Y Test Shape:\", y_4_train.shape)\n",
        "\n",
        "#Checking if target is unbalanced or not. \n",
        "target = y_4_train.to_frame()\n",
        "fig = px.histogram(target, x='phy_for_target', title=\"Target Variable - check if unbalanced\") \n",
        "#fig.show()\n"
      ],
      "execution_count": null,
      "outputs": [
        {
          "output_type": "stream",
          "text": [
            "X Train Shape: (877, 15)\n",
            "Y Train Shape: (877,)\n",
            "X Test Shape: (877, 15)\n",
            "Y Test Shape: (877,)\n"
          ],
          "name": "stdout"
        }
      ]
    },
    {
      "cell_type": "code",
      "metadata": {
        "colab": {
          "base_uri": "https://localhost:8080/"
        },
        "id": "liGOZ_0WklWZ",
        "outputId": "905cc1b9-3291-4e35-db6a-a72fc9138b6a"
      },
      "source": [
        "### Step 2 : Fit Logistic Regression model on Physical Foreign Attack\n",
        "\n",
        "logmodel4 = LogisticRegression(max_iter=1000)\n",
        "logmodel4.fit(x_4_train,y_4_train)\n",
        "predictions = logmodel4.predict(x_4_test)\n",
        "\n",
        "### Print Accuracy\n",
        "print('Accuracy of logistic regression classifier on test set: {:.2f}'.format(logmodel4.score(x_4_test, y_4_test)))\n",
        "\n",
        "### Print Confusion Matrix\n",
        "confusion_matrix(y_4_test, predictions)\n",
        "\n",
        "### Print Classification Report\n",
        "print(classification_report(y_4_test,predictions))"
      ],
      "execution_count": null,
      "outputs": [
        {
          "output_type": "stream",
          "text": [
            "Accuracy of logistic regression classifier on test set: 0.75\n",
            "              precision    recall  f1-score   support\n",
            "\n",
            "           0       0.75      0.99      0.85       165\n",
            "           1       0.33      0.02      0.03        55\n",
            "\n",
            "    accuracy                           0.75       220\n",
            "   macro avg       0.54      0.50      0.44       220\n",
            "weighted avg       0.65      0.75      0.65       220\n",
            "\n"
          ],
          "name": "stdout"
        }
      ]
    },
    {
      "cell_type": "code",
      "metadata": {
        "colab": {
          "base_uri": "https://localhost:8080/"
        },
        "id": "FL_Zolinp8Yf",
        "outputId": "acc223e2-b008-4560-ef7e-45c23498b778"
      },
      "source": [
        "x.columns"
      ],
      "execution_count": null,
      "outputs": [
        {
          "output_type": "execute_result",
          "data": {
            "text/plain": [
              "Index(['Country', 'Facebook', 'AccessInternetAccounts', 'TrustNewsFBPerson',\n",
              "       'TrustNewsFBGral', 'TrustMost', 'HrsCompWorkSchool',\n",
              "       'HrsCompNotWorkSchool', 'Educ_Level', 'Employment', 'MaritalStatus',\n",
              "       'ENI_Factors', 'OGA_Factors', 'TECH_Factors', 'PIR_Factors'],\n",
              "      dtype='object')"
            ]
          },
          "metadata": {
            "tags": []
          },
          "execution_count": 26
        }
      ]
    },
    {
      "cell_type": "markdown",
      "metadata": {
        "id": "UNINETJOjfhb"
      },
      "source": [
        "### Multinomial Logistic Regression\n",
        "\n"
      ]
    },
    {
      "cell_type": "markdown",
      "metadata": {
        "id": "gzsLujDArone"
      },
      "source": [
        "**Multinomial Logistic Regression - y_1_scale = Cyber Home Intensity**\n",
        "\n"
      ]
    },
    {
      "cell_type": "code",
      "metadata": {
        "colab": {
          "base_uri": "https://localhost:8080/"
        },
        "id": "PYbYvk2_jeJo",
        "outputId": "03f152ae-25d7-4f51-f26b-3a6788ad3168"
      },
      "source": [
        "x_1_scaletrain, x_1_scaletest, y_1_scaletrain, y_1_scaletest = train_test_split(x, y_1_scale, test_size=.2, random_state=0)\n",
        "\n",
        "### define the multinomial logistic regression model\n",
        "multi1 = LogisticRegression(multi_class='multinomial', solver='lbfgs', max_iter=1000)\n",
        "multi1.fit(x_1_scaletrain,y_1_scaletrain)\n",
        "predictions = multi1.predict(x_1_scaletest)\n",
        "\n",
        "### Print Accuracy\n",
        "print('Accuracy of logistic regression classifier on test set: {:.2f}'.format(multi1.score(x_1_scaletest, y_1_scaletest)))\n",
        "\n",
        "### Print Confusion Matrix\n",
        "print(confusion_matrix(y_1_scaletest, predictions))\n",
        "\n",
        "### Print Classification Report\n",
        "print(classification_report(y_1_scaletest,predictions))\n",
        "\n",
        "\n",
        "#model = LogisticRegression(multi_class = 'multinomial', solver = 'lbfgs', max_iter = 1000)\n",
        "#cv = RepeatedStratifiedKFold(n_splits = 5, n_repeats = 3, random_state = 1)\n",
        "#n_scores = cross_val_score(model, x, y_1_scale, scoring = 'accuracy', cv = cv, n_jobs = 1)\n",
        "#print('Mean Accuracy: %.3f (%.3f)' % (mean(n_scores), std(n_scores)))"
      ],
      "execution_count": null,
      "outputs": [
        {
          "output_type": "stream",
          "text": [
            "Accuracy of logistic regression classifier on test set: 0.57\n",
            "[[  5  10  30]\n",
            " [  2  19  34]\n",
            " [  3  15 102]]\n",
            "              precision    recall  f1-score   support\n",
            "\n",
            "        high       0.50      0.11      0.18        45\n",
            "         low       0.43      0.35      0.38        55\n",
            "      medium       0.61      0.85      0.71       120\n",
            "\n",
            "    accuracy                           0.57       220\n",
            "   macro avg       0.52      0.44      0.43       220\n",
            "weighted avg       0.55      0.57      0.52       220\n",
            "\n"
          ],
          "name": "stdout"
        }
      ]
    },
    {
      "cell_type": "code",
      "metadata": {
        "colab": {
          "base_uri": "https://localhost:8080/",
          "height": 574
        },
        "id": "VSkkzKRRCxCH",
        "outputId": "286f5758-7eb6-4d22-8366-c5d0273f9b01"
      },
      "source": [
        "cm = metrics.confusion_matrix(y_1_scaletest, predictions)\n",
        "score = multi1.score(x_1_scaletest, y_1_scaletest)\n",
        "\n",
        "plt.figure(figsize=(10,10))\n",
        "sns.heatmap(cm, annot=True, fmt=\".0f\", linewidths=.5, square = True, cmap = 'Blues_r');\n",
        "plt.ylabel('Actual label');\n",
        "plt.xlabel('Predicted label');\n",
        "all_sample_title = 'Accuracy Score: {0}'.format(score)\n",
        "plt.title(all_sample_title, size = 15);"
      ],
      "execution_count": null,
      "outputs": [
        {
          "output_type": "display_data",
          "data": {
            "image/png": "[encoded data removed]",
            "text/plain": [
              "<Figure size 720x720 with 2 Axes>"
            ]
          },
          "metadata": {
            "tags": [],
            "needs_background": "light"
          }
        }
      ]
    },
    {
      "cell_type": "code",
      "metadata": {
        "colab": {
          "base_uri": "https://localhost:8080/"
        },
        "id": "Khm5jGfU81Ts",
        "outputId": "30796313-324d-4663-b182-0e73bad71bfd"
      },
      "source": [
        "y_1_scale.unique()"
      ],
      "execution_count": null,
      "outputs": [
        {
          "output_type": "execute_result",
          "data": {
            "text/plain": [
              "array(['medium', 'low', 'high'], dtype=object)"
            ]
          },
          "metadata": {
            "tags": []
          },
          "execution_count": 28
        }
      ]
    },
    {
      "cell_type": "markdown",
      "metadata": {
        "id": "KKuq--p6sNEY"
      },
      "source": [
        "**Multinomial Logistic Regression - y_2_scale = Cyber Foreign Intensity**"
      ]
    },
    {
      "cell_type": "markdown",
      "metadata": {
        "id": "UlXDn4mTsWM4"
      },
      "source": [
        "**Multinomial Logistic Regression - y_3_scale = Physical Home Intensity**"
      ]
    },
    {
      "cell_type": "code",
      "metadata": {
        "colab": {
          "base_uri": "https://localhost:8080/",
          "height": 1000
        },
        "id": "XespAahnv5CZ",
        "outputId": "f836c118-fc93-49ef-8d82-42447a2c634a"
      },
      "source": [
        "#The above questions are: 26_1 - hours per week in chatrooms, 26_4 - hours per week doing information searches, \n",
        "#36_16 - importance of country winning in sports, 36_18 - sometimes necessary to use force, \n",
        "pred_vars_all =['Country', 'Facebook', 'AccessInternetAccounts', 'TrustNewsFBPerson',\n",
        "                'TrustNewsFBGral', 'TrustMost', 'HrsCompWorkSchool','HrsCompNotWorkSchool', \n",
        "                'Educ_Level', 'Employment','MaritalStatus', \n",
        "                'ENI_Factors','OGA_Factors', 'TECH_Factors', 'PIR_Factors', 'ChatroomHRS', 'InformationSearches', 'SportCompWin', 'UseForce']\n",
        "\n",
        "x = Data[pred_vars_all]\n",
        "\n",
        "\n",
        "\n",
        "x_3_scaletrain, x_3_scaletest, y_3_scaletrain, y_3_scaletest = train_test_split(x, y_3_scale, test_size=.2, random_state=0)\n",
        "\n",
        "### define the multinomial logistic regression model\n",
        "multi3 = LogisticRegression(multi_class='multinomial', solver='lbfgs', max_iter=1000)\n",
        "multi3.fit(x_3_scaletrain,y_3_scaletrain)\n",
        "predictions = multi3.predict(x_3_scaletest)\n",
        "\n",
        "### Print Accuracy\n",
        "print('Accuracy of logistic regression classifier on test set: {:.2f}'.format(multi3.score(x_3_scaletest, y_3_scaletest)))\n",
        "\n",
        "### Print Confusion Matrix\n",
        "print(confusion_matrix(y_3_scaletest, predictions))\n",
        "\n",
        "### Print Classification Report\n",
        "print(classification_report(y_3_scaletest,predictions))\n",
        "\n",
        "# Variable Importance for Cyber Home Attack\n",
        "importance3 = multi3.coef_[0]\n",
        "a = [z for z in range(len(importance3))]\n",
        "ax = sns.barplot(x = a, y = importance3, data = x)\n",
        "ax.set(title = 'Variable Importance for Physical Home Attack (Multinomial Logistic Regression)')\n",
        "plt.xticks(range(15), x, rotation = 90, ha = 'right')\n",
        "for p in ax.patches:\n",
        "    ax.annotate(format(p.get_height(), '.3f'), \n",
        "                   (p.get_x() + p.get_width() / 2., p.get_height()), ha = 'center', xytext = (2, 3), textcoords = 'offset points', size = 9.5)\n",
        "\n",
        "plt.show()\n",
        "#Select new variables from importance plots\n",
        "pred_vars_1 = ['AccessInternetAccounts', 'TrustNewsFBPerson', 'TrustMost',\n",
        "                'Educ_Level', 'Employment','MaritalStatus', \n",
        "                'OGA_Factors', 'PIR_Factors', 'UseForce'] \n",
        "x = Data[pred_vars_1]\n",
        "\n",
        "x_3_scaletrain, x_3_scaletest, y_3_scaletrain, y_3_scaletest = train_test_split(x, y_3_scale, test_size=.2, random_state=0)\n",
        "\n",
        "### define the multinomial logistic regression model\n",
        "multi3 = LogisticRegression(multi_class='multinomial', solver='lbfgs', max_iter=1000)\n",
        "multi3.fit(x_3_scaletrain,y_3_scaletrain)\n",
        "predictions = multi3.predict(x_3_scaletest)\n",
        "\n",
        "### Print Accuracy\n",
        "print('Accuracy of logistic regression classifier on test set: {:.2f}'.format(multi3.score(x_3_scaletest, y_3_scaletest)))\n",
        "\n",
        "### Print Confusion Matrix\n",
        "print(confusion_matrix(y_3_scaletest, predictions))\n",
        "\n",
        "### Print Classification Report\n",
        "print(classification_report(y_3_scaletest,predictions))\n",
        "\n",
        "# Variable Importance for Cyber Home Attack\n",
        "importance3 = multi3.coef_[0]\n",
        "a = [z for z in range(len(importance3))]\n",
        "ax = sns.barplot(x = a, y = importance3, data = x)\n",
        "ax.set(title = 'Variable Importance for Physical Home Attack (Multinomial Logistic Regression)')\n",
        "plt.xticks(range(15), x, rotation = 90, ha = 'right')\n",
        "for p in ax.patches:\n",
        "    ax.annotate(format(p.get_height(), '.3f'), \n",
        "                   (p.get_x() + p.get_width() / 2., p.get_height()), ha = 'center', xytext = (2, 3), textcoords = 'offset points', size = 9.5)"
      ],
      "execution_count": null,
      "outputs": [
        {
          "output_type": "stream",
          "text": [
            "Accuracy of logistic regression classifier on test set: 0.44\n",
            "[[ 1 17 45]\n",
            " [ 3 23 31]\n",
            " [ 7 21 72]]\n",
            "              precision    recall  f1-score   support\n",
            "\n",
            "        high       0.09      0.02      0.03        63\n",
            "         low       0.38      0.40      0.39        57\n",
            "      medium       0.49      0.72      0.58       100\n",
            "\n",
            "    accuracy                           0.44       220\n",
            "   macro avg       0.32      0.38      0.33       220\n",
            "weighted avg       0.34      0.44      0.37       220\n",
            "\n"
          ],
          "name": "stdout"
        },
        {
          "output_type": "display_data",
          "data": {
            "image/png": "[encoded data removed]",
            "text/plain": [
              "<Figure size 432x288 with 1 Axes>"
            ]
          },
          "metadata": {
            "tags": [],
            "needs_background": "light"
          }
        },
        {
          "output_type": "stream",
          "text": [
            "Accuracy of logistic regression classifier on test set: 0.44\n",
            "[[ 2 16 45]\n",
            " [ 3 18 36]\n",
            " [ 7 16 77]]\n",
            "              precision    recall  f1-score   support\n",
            "\n",
            "        high       0.17      0.03      0.05        63\n",
            "         low       0.36      0.32      0.34        57\n",
            "      medium       0.49      0.77      0.60       100\n",
            "\n",
            "    accuracy                           0.44       220\n",
            "   macro avg       0.34      0.37      0.33       220\n",
            "weighted avg       0.36      0.44      0.37       220\n",
            "\n"
          ],
          "name": "stdout"
        },
        {
          "output_type": "display_data",
          "data": {
            "image/png": "[encoded data removed]",
            "text/plain": [
              "<Figure size 432x288 with 1 Axes>"
            ]
          },
          "metadata": {
            "tags": [],
            "needs_background": "light"
          }
        }
      ]
    },
    {
      "cell_type": "code",
      "metadata": {
        "colab": {
          "base_uri": "https://localhost:8080/"
        },
        "id": "beg44PtPwqPK",
        "outputId": "3cce1e89-89d7-46d1-f563-ce0f2ef55290"
      },
      "source": [
        "from sklearn.model_selection import RepeatedStratifiedKFold\n",
        "from sklearn.model_selection import cross_val_score\n",
        "model = LogisticRegression(multi_class = 'multinomial', solver = 'lbfgs', max_iter = 1000)\n",
        "cv = RepeatedStratifiedKFold(n_splits = 5, n_repeats = 3, random_state = 1)\n",
        "n_scores = cross_val_score(model, x, y_3_scale, scoring = 'accuracy', cv = cv, n_jobs = 1)\n",
        "print('Mean Accuracy: %.3f (%.3f)' % (mean(n_scores), std(n_scores)))"
      ],
      "execution_count": null,
      "outputs": [
        {
          "output_type": "stream",
          "text": [
            "Mean Accuracy: 0.454 (0.021)\n"
          ],
          "name": "stdout"
        }
      ]
    },
    {
      "cell_type": "markdown",
      "metadata": {
        "id": "tWflOdcPsaOB"
      },
      "source": [
        "**Multinomial Logistic Regression - y_4_scale = Physical Foreign Intensity**"
      ]
    },
    {
      "cell_type": "markdown",
      "metadata": {
        "id": "ujISeYXvcGp3"
      },
      "source": [
        "\n",
        "# Plots / scratch work ignore\n"
      ]
    },
    {
      "cell_type": "markdown",
      "metadata": {
        "id": "NsXByHk3m9YG"
      },
      "source": [
        "**Multinomial Logistic Regression: y_1 = Cyber Attack Home**\n"
      ]
    },
    {
      "cell_type": "code",
      "metadata": {
        "colab": {
          "base_uri": "https://localhost:8080/"
        },
        "id": "oHsV6jdwjs1u",
        "outputId": "b3bd9e1c-b5e6-4955-80d5-ccc71119ee76"
      },
      "source": [
        "pip install latex"
      ],
      "execution_count": null,
      "outputs": [
        {
          "output_type": "stream",
          "text": [
            "Requirement already satisfied: latex in /usr/local/lib/python3.7/dist-packages (0.7.0)\n",
            "Requirement already satisfied: tempdir in /usr/local/lib/python3.7/dist-packages (from latex) (0.7.1)\n",
            "Requirement already satisfied: shutilwhich in /usr/local/lib/python3.7/dist-packages (from latex) (1.1.0)\n",
            "Requirement already satisfied: future in /usr/local/lib/python3.7/dist-packages (from latex) (0.16.0)\n",
            "Requirement already satisfied: data in /usr/local/lib/python3.7/dist-packages (from latex) (0.4)\n",
            "Requirement already satisfied: six in /usr/local/lib/python3.7/dist-packages (from data->latex) (1.15.0)\n",
            "Requirement already satisfied: funcsigs in /usr/local/lib/python3.7/dist-packages (from data->latex) (1.0.2)\n",
            "Requirement already satisfied: decorator in /usr/local/lib/python3.7/dist-packages (from data->latex) (4.4.2)\n"
          ],
          "name": "stdout"
        }
      ]
    },
    {
      "cell_type": "code",
      "metadata": {
        "colab": {
          "base_uri": "https://localhost:8080/",
          "height": 335
        },
        "id": "vwHGPtFHgFf5",
        "outputId": "424c5b72-5952-4e89-d952-9200d91fe911"
      },
      "source": [
        "## Multinomial Logistic Regression: y_1_scale = Cyber Attack Home\n",
        "\n",
        "# tune regularization for multinomial logistic regression\n",
        "from numpy import mean\n",
        "from numpy import std\n",
        "from sklearn.datasets import make_classification\n",
        "from sklearn.model_selection import cross_val_score\n",
        "from sklearn.model_selection import RepeatedStratifiedKFold\n",
        "from sklearn.linear_model import LogisticRegression\n",
        "from matplotlib import pyplot\n",
        " \n",
        "# get the dataset\n",
        "def get_dataset():\n",
        "\t#X, y = make_classification(n_samples=1000, n_features=20, n_informative=15, n_redundant=5, random_state=1, n_classes=3)\n",
        "\t#return X, y\n",
        "  return x, y_1_scale\n",
        " \n",
        "# get a list of models to evaluate\n",
        "def get_models():\n",
        "\tmodels = dict()\n",
        "\tfor p in [0.0, 0.0001, 0.001, 0.01, 0.1, 1.0]:\n",
        "\t\t# create name for model\n",
        "\t\tkey = '%.2f' % p\n",
        "\t\t# turn off penalty in some cases\n",
        "\t\tif p == 0.0:\n",
        "\t\t\t# no penalty in this case\n",
        "\t\t\tmodels[key] = LogisticRegression(multi_class='multinomial', solver='lbfgs', penalty='none')\n",
        "\t\telse:\n",
        "\t\t\tmodels[key] = LogisticRegression(multi_class='multinomial', solver='lbfgs', penalty='l2', C=p)\n",
        "\treturn models\n",
        " \n",
        "# evaluate a give model using cross-validation\n",
        "def evaluate_model(model, X, y):\n",
        "\t# define the evaluation procedure\n",
        "\tcv = RepeatedStratifiedKFold(n_splits=10, n_repeats=3, random_state=1)\n",
        "\t# evaluate the model\n",
        "\tscores = cross_val_score(model, X, y, scoring='accuracy', cv=cv, n_jobs=-1)\n",
        "\treturn scores\n",
        " \n",
        "# define dataset\n",
        "X, y = get_dataset()\n",
        "# get the models to evaluate\n",
        "models = get_models()\n",
        "# evaluate the models and store results\n",
        "results, names = list(), list()\n",
        "for name, model in models.items():\n",
        "\t# evaluate the model and collect the scores\n",
        "\tscores = evaluate_model(model, X, y)\n",
        "\t# store the results\n",
        "\tresults.append(scores)\n",
        "\tnames.append(name)\n",
        "\t# summarize progress along the way\n",
        "\tprint('>%s %.3f (%.3f)' % (name, mean(scores), std(scores)))\n",
        "# plot model performance for comparison\n",
        "pyplot.boxplot(results, labels=names, showmeans=True)\n",
        "pyplot.show()"
      ],
      "execution_count": null,
      "outputs": [
        {
          "output_type": "stream",
          "text": [
            ">0.00 0.529 (0.011)\n",
            ">0.01 0.525 (0.030)\n",
            ">0.10 0.524 (0.027)\n",
            ">1.00 0.521 (0.030)\n"
          ],
          "name": "stdout"
        },
        {
          "output_type": "display_data",
          "data": {
            "image/png": "[encoded data removed]",
            "text/plain": [
              "<Figure size 432x288 with 1 Axes>"
            ]
          },
          "metadata": {
            "tags": [],
            "needs_background": "light"
          }
        }
      ]
    }
  ]
}